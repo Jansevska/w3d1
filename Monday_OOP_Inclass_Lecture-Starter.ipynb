{
 "cells": [
  {
   "cell_type": "markdown",
   "metadata": {},
   "source": [
    "# Object-Oriented-Programming (OOP)"
   ]
  },
  {
   "cell_type": "markdown",
   "metadata": {},
   "source": [
    "## Tasks Today:\n",
    "\n",
    "   \n",
    "\n",
    "1) <b>Creating a Class (Initializing/Declaring)</b> <br>\n",
    "2) <b>Using a Class (Instantiating)</b> <br>\n",
    " &nbsp;&nbsp;&nbsp;&nbsp; a) Creating One Instance <br>\n",
    " &nbsp;&nbsp;&nbsp;&nbsp; b) Creating Multiple Instances <br>\n",
    " &nbsp;&nbsp;&nbsp;&nbsp; c) In-Class Exercise #1 - Create a Class 'Car' and instantiate three different makes of cars <br>\n",
    "3) <b>The \\__init\\__() Method</b> <br>\n",
    " &nbsp;&nbsp;&nbsp;&nbsp; a) The 'self' Attribute <br>\n",
    "4) <b>Class Attributes</b> <br>\n",
    " &nbsp;&nbsp;&nbsp;&nbsp; a) Initializing Attributes <br>\n",
    " &nbsp;&nbsp;&nbsp;&nbsp; b) Setting an Attribute Outside of the \\__init\\__() Method <br>\n",
    " &nbsp;&nbsp;&nbsp;&nbsp; c) Setting Defaults for Attributes <br>\n",
    " &nbsp;&nbsp;&nbsp;&nbsp; d) Accessing Class Attributes <br>\n",
    " &nbsp;&nbsp;&nbsp;&nbsp; e) Changing Class Attributes <br>\n",
    " &nbsp;&nbsp;&nbsp;&nbsp; f) In-Class Exercise #2 - Update your 'Car' class with \\__init\\__() method and class attributes<br>\n",
    "5) <b>Class Methods</b> <br>\n",
    " &nbsp;&nbsp;&nbsp;&nbsp; a) Creating <br>\n",
    " &nbsp;&nbsp;&nbsp;&nbsp; b) Calling <br>\n",
    " &nbsp;&nbsp;&nbsp;&nbsp; c) Modifying an Attribute's Value Through a Method <br>\n",
    " &nbsp;&nbsp;&nbsp;&nbsp; d) Incrementing an Attribute's Value Through a Method <br>\n",
    " &nbsp;&nbsp;&nbsp;&nbsp; e) In-Class Exercise #3 - Update Car class with new methods <br>\n",
    "6) <b>Classes as Attributes</b> <br>\n",
    "8) <b>Exercises</b> <br>\n",
    " &nbsp;&nbsp;&nbsp;&nbsp; a) Exercise #1 - Turn the shopping cart program from yesterday into an object-oriented program <br>\n",
    "  &nbsp;&nbsp;&nbsp;&nbsp; a) Exercise #2 - Create an Animal class with Eat, Sleep, and Play methods <br>"
   ]
  },
  {
   "cell_type": "code",
   "execution_count": null,
   "metadata": {},
   "outputs": [],
   "source": []
  },
  {
   "cell_type": "markdown",
   "metadata": {},
   "source": [
    "#### Object-Oriented Programming"
   ]
  },
  {
   "cell_type": "markdown",
   "metadata": {},
   "source": [
    "Object-Oriented Programming (OOP) allows us to create programs so that that properties and behaviors are bundled into **objects**. OOP models real-world entities as software objects that have some data associated with them and can perform certain functions."
   ]
  },
  {
   "cell_type": "markdown",
   "metadata": {},
   "source": [
    "## Creating a Class (Initializing/Declaring)\n",
    "<p>When creating a class, function, or even a variable you are initializing that object. Initializing and Declaring occur at the same time in Python, whereas in lower level languages you have to declare an object before initializing it. This is the first step in the process of using a class.</p>"
   ]
  },
  {
   "cell_type": "code",
   "execution_count": null,
   "metadata": {},
   "outputs": [],
   "source": []
  },
  {
   "cell_type": "markdown",
   "metadata": {},
   "source": [
    "## Using a Class (Instantiating)\n",
    "<p>The process of creating a class is called <i>Instantiating</i>. Each time you create a variable of that type of class, it is referred to as an <i>Instance</i> of that class. This is the second step in the process of using a class.</p>"
   ]
  },
  {
   "cell_type": "code",
   "execution_count": null,
   "metadata": {},
   "outputs": [],
   "source": []
  },
  {
   "cell_type": "markdown",
   "metadata": {},
   "source": [
    "##### Creating One Instance"
   ]
  },
  {
   "cell_type": "code",
   "execution_count": null,
   "metadata": {},
   "outputs": [],
   "source": []
  },
  {
   "cell_type": "markdown",
   "metadata": {},
   "source": [
    "##### Creating Multiple Instances"
   ]
  },
  {
   "cell_type": "code",
   "execution_count": null,
   "metadata": {},
   "outputs": [],
   "source": []
  },
  {
   "cell_type": "markdown",
   "metadata": {},
   "source": [
    "##### Adding attributes to instances"
   ]
  },
  {
   "cell_type": "code",
   "execution_count": null,
   "metadata": {},
   "outputs": [],
   "source": []
  },
  {
   "cell_type": "markdown",
   "metadata": {},
   "source": [
    "##### In-Class Exercise #1 - Create a Class 'Car' and Instantiate three different car instances. Add a different make for each car."
   ]
  },
  {
   "cell_type": "code",
   "execution_count": 3,
   "metadata": {},
   "outputs": [
    {
     "name": "stdout",
     "output_type": "stream",
     "text": [
      "Toyta\n",
      "Ford\n",
      "Porche\n"
     ]
    }
   ],
   "source": [
    "class Car:\n",
    "    pass\n",
    "car_1 = Car()\n",
    "car_2 = Car()\n",
    "car_3 = Car()\n",
    "\n",
    "# create 3 instances\n",
    "car_1.make = \"Toyta\"\n",
    "car_2.make = \"Ford\"\n",
    "car_3.make = \"Porche\"\n",
    "\n",
    "#add car instances to a list\n",
    "cars = [car_1, car_2, car_3]\n",
    "\n",
    "#loop over the list\n",
    "for car in cars:\n",
    "    print(car.make)\n",
    "   \n",
    "    "
   ]
  },
  {
   "cell_type": "markdown",
   "metadata": {},
   "source": [
    "## The \\__init\\__() Method <br>\n",
    "<p>This method is used in almost every created class, and called only once upon the creation of the class instance. This method will initialize all variables needed for the object.</p>"
   ]
  },
  {
   "cell_type": "markdown",
   "metadata": {},
   "source": [
    "##### The 'self' Attribute <br>\n",
    "<p>This attribute is required to keep track of specific instance's attributes. Without the self attribute, the program would not know how to reference or keep track of an instance's attributes.</p>"
   ]
  },
  {
   "cell_type": "code",
   "execution_count": null,
   "metadata": {},
   "outputs": [],
   "source": []
  },
  {
   "cell_type": "code",
   "execution_count": null,
   "metadata": {},
   "outputs": [],
   "source": []
  },
  {
   "cell_type": "code",
   "execution_count": null,
   "metadata": {},
   "outputs": [],
   "source": []
  },
  {
   "cell_type": "markdown",
   "metadata": {},
   "source": [
    "## Class Attributes <br>\n",
    "<p>While variables are inside of a class, they are referred to as attributes and not variables. When someone says 'attribute' you know they're speaking about a class. Attributes can be initialized through the init method, or outside of it.</p>"
   ]
  },
  {
   "cell_type": "markdown",
   "metadata": {},
   "source": [
    "##### Initializing Attributes"
   ]
  },
  {
   "cell_type": "code",
   "execution_count": null,
   "metadata": {},
   "outputs": [],
   "source": []
  },
  {
   "cell_type": "markdown",
   "metadata": {},
   "source": [
    "##### Accessing Class Attributes"
   ]
  },
  {
   "cell_type": "code",
   "execution_count": null,
   "metadata": {
    "scrolled": true
   },
   "outputs": [],
   "source": [
    "# See Above"
   ]
  },
  {
   "cell_type": "markdown",
   "metadata": {},
   "source": [
    "##### Setting Defaults for Attributes"
   ]
  },
  {
   "cell_type": "code",
   "execution_count": null,
   "metadata": {},
   "outputs": [],
   "source": []
  },
  {
   "cell_type": "markdown",
   "metadata": {},
   "source": [
    "##### Changing Class Attributes <br>\n",
    "<p>Keep in mind there are global class attributes and then there are attributes only available to each class instance which won't effect other classes.</p>"
   ]
  },
  {
   "cell_type": "code",
   "execution_count": null,
   "metadata": {},
   "outputs": [],
   "source": []
  },
  {
   "cell_type": "code",
   "execution_count": null,
   "metadata": {},
   "outputs": [],
   "source": []
  },
  {
   "cell_type": "code",
   "execution_count": null,
   "metadata": {},
   "outputs": [],
   "source": []
  },
  {
   "cell_type": "markdown",
   "metadata": {},
   "source": [
    "##### In-Class Exercise 2 - Create an \\__init__ method for your Car class which takes in color and model with a default value for gas_level of 100. Your class should also have a class attribute for model. Once you have created the class, instantiate 3 different cars"
   ]
  },
  {
   "cell_type": "code",
   "execution_count": null,
   "metadata": {},
   "outputs": [],
   "source": [
    "# Car class\n",
    "# Class Attribute - model\n",
    "# Instance Attributes - color, make, gas_level\n",
    "\n",
    "class Car:\n",
    "    make = Toyota\n",
    "    \n",
    "    def __init__(self, color, model, gas_level = '100'):\n",
    "        self.color = color\n",
    "        self.model = model\n",
    "        sefl.gas_level = gas_level\n",
    "        \n",
    "car_1 = Car('orange', 'Tacoma')   \n",
    "car_2 = Car('blue', 'Tundra', 150)\n",
    "car_3 = Car('black', '4Runner')\n",
    "\n",
    "        \n",
    "    \n",
    "   "
   ]
  },
  {
   "cell_type": "markdown",
   "metadata": {},
   "source": [
    "## Class Methods <br>\n",
    "<p>While inside of a class, functions are referred to as 'methods'. If you hear someone mention methods, they're speaking about classes. Methods are essentially functions, but only callable on the instances of a class.</p>"
   ]
  },
  {
   "cell_type": "markdown",
   "metadata": {},
   "source": [
    "##### Creating"
   ]
  },
  {
   "cell_type": "code",
   "execution_count": null,
   "metadata": {},
   "outputs": [],
   "source": []
  },
  {
   "cell_type": "code",
   "execution_count": null,
   "metadata": {},
   "outputs": [],
   "source": []
  },
  {
   "cell_type": "markdown",
   "metadata": {},
   "source": [
    "##### Calling"
   ]
  },
  {
   "cell_type": "code",
   "execution_count": null,
   "metadata": {},
   "outputs": [],
   "source": []
  },
  {
   "cell_type": "markdown",
   "metadata": {},
   "source": [
    "##### Modifying an Attribute's Value Through a Method"
   ]
  },
  {
   "cell_type": "code",
   "execution_count": null,
   "metadata": {},
   "outputs": [],
   "source": []
  },
  {
   "cell_type": "code",
   "execution_count": null,
   "metadata": {},
   "outputs": [],
   "source": []
  },
  {
   "cell_type": "markdown",
   "metadata": {},
   "source": [
    "##### Incrementing an Attribute's Value Through a Method"
   ]
  },
  {
   "cell_type": "code",
   "execution_count": null,
   "metadata": {},
   "outputs": [],
   "source": []
  },
  {
   "cell_type": "markdown",
   "metadata": {},
   "source": [
    "##### In-Class Exercise #3 - Add two methods to your car class. One method called `drive` that will take in the number of miles and decrease that car's `gas_level` by 1 unit for every 5 miles. Another method called `fill_up` will take in gallons and increase the `gas_level` by 10 units for every gallon."
   ]
  },
  {
   "cell_type": "code",
   "execution_count": 9,
   "metadata": {},
   "outputs": [
    {
     "ename": "NameError",
     "evalue": "name 'sefl' is not defined",
     "output_type": "error",
     "traceback": [
      "\u001b[1;31m---------------------------------------------------------------------------\u001b[0m",
      "\u001b[1;31mNameError\u001b[0m                                 Traceback (most recent call last)",
      "Cell \u001b[1;32mIn[9], line 9\u001b[0m\n\u001b[0;32m      6\u001b[0m         \u001b[38;5;28mself\u001b[39m\u001b[38;5;241m.\u001b[39mmodel \u001b[38;5;241m=\u001b[39m model\n\u001b[0;32m      7\u001b[0m         sefl\u001b[38;5;241m.\u001b[39mgas_level \u001b[38;5;241m=\u001b[39m gas_level\n\u001b[1;32m----> 9\u001b[0m car_1 \u001b[38;5;241m=\u001b[39m Car(\u001b[38;5;124m'\u001b[39m\u001b[38;5;124morange\u001b[39m\u001b[38;5;124m'\u001b[39m, \u001b[38;5;124m'\u001b[39m\u001b[38;5;124mTacoma\u001b[39m\u001b[38;5;124m'\u001b[39m)   \n\u001b[0;32m     10\u001b[0m car_2 \u001b[38;5;241m=\u001b[39m Car(\u001b[38;5;124m'\u001b[39m\u001b[38;5;124mblue\u001b[39m\u001b[38;5;124m'\u001b[39m, \u001b[38;5;124m'\u001b[39m\u001b[38;5;124mTundra\u001b[39m\u001b[38;5;124m'\u001b[39m, \u001b[38;5;241m150\u001b[39m)\n\u001b[0;32m     11\u001b[0m car_3 \u001b[38;5;241m=\u001b[39m Car(\u001b[38;5;124m'\u001b[39m\u001b[38;5;124mblack\u001b[39m\u001b[38;5;124m'\u001b[39m, \u001b[38;5;124m'\u001b[39m\u001b[38;5;124m4Runner\u001b[39m\u001b[38;5;124m'\u001b[39m)\n",
      "Cell \u001b[1;32mIn[9], line 7\u001b[0m, in \u001b[0;36mCar.__init__\u001b[1;34m(self, color, model, gas_level)\u001b[0m\n\u001b[0;32m      5\u001b[0m \u001b[38;5;28mself\u001b[39m\u001b[38;5;241m.\u001b[39mcolor \u001b[38;5;241m=\u001b[39m color\n\u001b[0;32m      6\u001b[0m \u001b[38;5;28mself\u001b[39m\u001b[38;5;241m.\u001b[39mmodel \u001b[38;5;241m=\u001b[39m model\n\u001b[1;32m----> 7\u001b[0m sefl\u001b[38;5;241m.\u001b[39mgas_level \u001b[38;5;241m=\u001b[39m gas_level\n",
      "\u001b[1;31mNameError\u001b[0m: name 'sefl' is not defined"
     ]
    }
   ],
   "source": [
    "class Car:\n",
    "    make = 'Toyota'\n",
    "    \n",
    "    def __init__(self, color, model, gas_level = '100'):\n",
    "        self.color = color\n",
    "        self.model = model\n",
    "        sefl.gas_level = gas_level\n",
    "        \n",
    "    def drive(self, number_of_miles):\n",
    "        self.number_of_miles = number_of_miles // 5\n",
    "        \n",
    "car_1 = Car('orange', 'Tacoma')   \n",
    "car_2 = Car('blue', 'Tundra', 150)\n",
    "car_3 = Car('black', '4Runner')\n",
    "\n",
    "cars = [car_1, car_2, car_3]\n",
    "\n",
    "for car in cars:\n",
    "    print(f' color: {car.color} Make: {car.make} Gas_level: {car.gas_level}')\n",
    "\n",
    "car_1.drive(100)    "
   ]
  },
  {
   "cell_type": "code",
   "execution_count": null,
   "metadata": {},
   "outputs": [],
   "source": [
    "def drive(number_of_miles):\n",
    "    number_of_miles = number_of_miles // 5\n",
    "    \n",
    "    "
   ]
  },
  {
   "cell_type": "markdown",
   "metadata": {},
   "source": [
    "## Classes as Attributes <br>\n",
    "<p>Classes can also be used as attributes within another class. This is useful in situations where you need to keep variables locally stored, instead of globally stored.</p>"
   ]
  },
  {
   "cell_type": "code",
   "execution_count": null,
   "metadata": {},
   "outputs": [],
   "source": []
  },
  {
   "cell_type": "code",
   "execution_count": null,
   "metadata": {},
   "outputs": [],
   "source": []
  },
  {
   "cell_type": "code",
   "execution_count": null,
   "metadata": {},
   "outputs": [],
   "source": []
  },
  {
   "cell_type": "markdown",
   "metadata": {},
   "source": [
    "# Exercises"
   ]
  },
  {
   "cell_type": "markdown",
   "metadata": {},
   "source": [
    "### Exercise 1 - Turn the shopping cart program into an object-oriented program"
   ]
  },
  {
   "cell_type": "code",
   "execution_count": 10,
   "metadata": {},
   "outputs": [
    {
     "name": "stdout",
     "output_type": "stream",
     "text": [
      "Enter shopping cart option (add/remove/view/quit): add\n",
      "Enter item:lemons\n",
      "Enter lemons quantity:  4\n",
      "How many monies?1.49\n",
      "4 lemons has been added to your cart.\n",
      "Would you like to add more lemons? yes / no > no\n",
      "Enter shopping cart option (add/remove/view/quit): add\n",
      "Enter item:bananas\n",
      "Enter bananas quantity:  12\n",
      "How many monies?.35\n",
      "12 bananas has been added to your cart.\n",
      "Would you like to add more bananas? yes / no > no\n",
      "Enter shopping cart option (add/remove/view/quit): dates\n",
      "Enter shopping cart option (add/remove/view/quit): add\n",
      "Enter item:dates\n",
      "Enter dates quantity:  2\n",
      "How many monies?12.00\n",
      "2 dates has been added to your cart.\n",
      "Would you like to add more dates? yes / no > no\n",
      "Enter shopping cart option (add/remove/view/quit): view\n",
      "{'lemons': 5.96, 'bananas': 4.199999999999999, 'dates': 24.0}\n",
      "Enter shopping cart option (add/remove/view/quit): quit\n",
      "\n",
      "----- YOUR CART -----\n",
      "\n",
      "lemons $5.96\n",
      "\n",
      "\n",
      "bananas $4.20\n",
      "\n",
      "\n",
      "dates $24.00\n",
      "\n",
      "---- YOUR TOTAL ----\n",
      "Your total is $5.96\n",
      "---- YOUR TOTAL ----\n",
      "Your total is $10.16\n",
      "---- YOUR TOTAL ----\n",
      "Your total is $34.16\n",
      "\n",
      "> > > Thank you for shopping with us! < < <\n",
      "\n"
     ]
    }
   ],
   "source": [
    "# Create a class called cart that retains items and has methods to add, remove, and show\n",
    "\n",
    "class Shopping_cart():\n",
    "    def __init__(self):\n",
    "        self.cart = {}\n",
    "\n",
    "    def add_to_cart(self):      \n",
    "        item = input(\"Enter item:\")\n",
    "        quantity = int(input(f\"Enter {item} quantity:  \"))\n",
    "        price = float(input(\"How many monies?\"))\n",
    "        self.cart[item] = quantity * price\n",
    "        if item in self.cart:\n",
    "            option = input(f\"{quantity} {item} has been added to your cart.\\nWould you like to add more {item}? yes / no > \")\n",
    "            if option == \"yes\":\n",
    "                quantity = int(input(f\"Enter how many {item} you would like to add:  \"))\n",
    "                self.cart[item] += quantity * price\n",
    "        return f\"{quantity}{item} was added to your cart!\"\n",
    "                    \n",
    "    def remove_from_cart(self):\n",
    "        item = input(\"Enter item to remove:\")\n",
    "        del self.cart[item]\n",
    "                \n",
    "    def check_out(self):\n",
    "        itemized = []\n",
    "        print(\"\\n----- YOUR CART -----\") \n",
    "        for item in self.cart:\n",
    "            print(f\"\\n{item} ${self.cart[item]:.2f}\\n\")\n",
    "        for value in self.cart.values():\n",
    "#             print(f\"${value:.2f}\")\n",
    "            itemized.append(value)\n",
    "            print(\"---- YOUR TOTAL ----\")\n",
    "            print(f\"Your total is ${sum(itemized):.2f}\")\n",
    "            \n",
    "    def view_cart(self):\n",
    "        print(self.cart)\n",
    "        \n",
    "        \n",
    "def main():\n",
    "    me_cart = Shopping_cart()\n",
    "    while True:\n",
    "        option = input(\"Enter shopping cart option (add/remove/view/quit): \")\n",
    "        if option.lower() == \"quit\":\n",
    "            me_cart.check_out()\n",
    "            print(\"\\n> > > Thank you for shopping with us! < < <\\n\")\n",
    "            break\n",
    "        elif option.lower() == 'add':\n",
    "            me_cart.add_to_cart()\n",
    "        elif option.lower() == \"remove\":\n",
    "            me_cart.remove_from_cart()\n",
    "        elif option.lower() == \"view\":\n",
    "            me_cart.view_cart()\n",
    "main()        "
   ]
  },
  {
   "cell_type": "markdown",
   "metadata": {},
   "source": [
    "### Exercise 2 - Write a Python class for an Animal that has a name and energy attributes. The animal class should also have methods for eat, sleep, and play that will take in an integer and increase/decrease the energy of the animal with a formatted print statement"
   ]
  },
  {
   "cell_type": "code",
   "execution_count": null,
   "metadata": {},
   "outputs": [],
   "source": [
    "# Example 1\n",
    "# buddy = Animal('Buddy', 10)\n",
    "# buddy.play(5) -> \"Buddy is playing for 5 minutes. His energy is now 5\"\n",
    "# buddy.sleep(10) -> \"Buddy is sleeping for 10 minutes. His energy is now 15\""
   ]
  },
  {
   "cell_type": "code",
   "execution_count": 2,
   "metadata": {},
   "outputs": [
    {
     "name": "stdout",
     "output_type": "stream",
     "text": [
      "Aito is eating 2 treats. The energy level is now 150\n",
      "Aito is playing for 5 minutes. The energy level is now 45\n",
      "Aito is sleeping for 1. The energy level is now 95\n"
     ]
    }
   ],
   "source": [
    "class Dog():\n",
    "    def __init__(self, name, energy= 100):\n",
    "        self.name = name\n",
    "        self.energy = energy\n",
    "        \n",
    "    def eat(self, eat):\n",
    "        unit_increase = eat * 25\n",
    "        self.energy += unit_increase\n",
    "        print(f\"{self.name} is eating {eat} treats. The energy level is now {self.energy}\")\n",
    "        \n",
    "    def sleep(self, sleep):\n",
    "        unit_increase = sleep * 50\n",
    "        self.energy += unit_increase\n",
    "        print(f\"{self.name} is sleeping for {sleep}. The energy level is now {self.energy}\")\n",
    "         \n",
    "    def play(self, play):\n",
    "        unit_decrease = play * 35\n",
    "        self.energy -= unit_decrease\n",
    "        print(f\"{self.name} is playing for 5 minutes. The energy level is now {self.energy}\")\n",
    "\n",
    "        \n",
    "        \n",
    "dog1 = Dog('Aito')\n",
    "dog1.eat(2)\n",
    "dog1.play(3)\n",
    "dog1.sleep(1)\n"
   ]
  },
  {
   "cell_type": "code",
   "execution_count": null,
   "metadata": {},
   "outputs": [],
   "source": []
  }
 ],
 "metadata": {
  "kernelspec": {
   "display_name": "Python 3 (ipykernel)",
   "language": "python",
   "name": "python3"
  },
  "language_info": {
   "codemirror_mode": {
    "name": "ipython",
    "version": 3
   },
   "file_extension": ".py",
   "mimetype": "text/x-python",
   "name": "python",
   "nbconvert_exporter": "python",
   "pygments_lexer": "ipython3",
   "version": "3.11.4"
  }
 },
 "nbformat": 4,
 "nbformat_minor": 2
}
